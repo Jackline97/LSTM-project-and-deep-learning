{
 "cells": [
  {
   "cell_type": "markdown",
   "metadata": {
    "colab_type": "text",
    "id": "lOjloNOGfMxW"
   },
   "source": [
    "**Assignment 3**\n",
    "\n",
    "_This notebook contains simple starter code to show loading and displaying a pair of test images and the associated flow._"
   ]
  },
  {
   "cell_type": "markdown",
   "metadata": {},
   "source": [
    "### Student name: Yansong Li\n",
    "### Student number: 300083962"
   ]
  },
  {
   "cell_type": "code",
   "execution_count": 1,
   "metadata": {
    "colab": {
     "base_uri": "https://localhost:8080/",
     "height": 34
    },
    "colab_type": "code",
    "id": "-OvPn3P9fMxZ",
    "outputId": "d9d01000-ed99-49e7-c75b-a54365af2dce"
   },
   "outputs": [
    {
     "name": "stdout",
     "output_type": "stream",
     "text": [
      "Mounted at /content/gdrive\n"
     ]
    }
   ],
   "source": [
    "# Adapted helper routine from Aurelien Geron: Hand-on Machine Learning with Scikit-learn & Tensorflow.\n",
    "\n",
    "# Common imports\n",
    "import numpy as np\n",
    "import os\n",
    "import skimage \n",
    "from google.colab import drive\n",
    "# to make this notebook's output stable across runs\n",
    "np.random.seed(42)\n",
    "\n",
    "# To plot pretty figures\n",
    "%matplotlib inline\n",
    "import matplotlib\n",
    "import matplotlib.pyplot as plt\n",
    "plt.rcParams['axes.labelsize'] = 14\n",
    "plt.rcParams['xtick.labelsize'] = 12\n",
    "plt.rcParams['ytick.labelsize'] = 12\n",
    "\n",
    "drive.mount('/content/gdrive',force_remount=True)\n",
    "root_path = '/content/gdrive/My Drive/Colab_Notebooks'\n",
    "\n",
    "# Where to save the figures\n",
    "PROJECT_ROOT_DIR = \"/content/gdrive/My Drive/Colab_Notebooks/images\"\n",
    "NB_ID = \"assignment3\"\n",
    "\n",
    "# create the directory if it does not exist\n",
    "os.makedirs(os.path.join(PROJECT_ROOT_DIR, \"images\", NB_ID), exist_ok = True)\n",
    "        \n",
    "def save_fig(fig_id, tight_layout=True):\n",
    "    path = os.path.join(PROJECT_ROOT_DIR, \"images\", NB_ID, fig_id + \".png\")\n",
    "    print(\"Saving figure\", fig_id)\n",
    "    if tight_layout:\n",
    "        plt.tight_layout()\n",
    "    plt.savefig(path, format='png', dpi=300)"
   ]
  },
  {
   "cell_type": "markdown",
   "metadata": {
    "colab_type": "text",
    "id": "OI9CmhO-fMxc"
   },
   "source": [
    "Let's load the image pairs and the corresponding flow "
   ]
  },
  {
   "cell_type": "code",
   "execution_count": 0,
   "metadata": {
    "colab": {},
    "colab_type": "code",
    "id": "grgq_vD_fMxd"
   },
   "outputs": [],
   "source": [
    "train_images = np.load(os.path.join(PROJECT_ROOT_DIR, NB_ID, 'rot_images_train.npy'))"
   ]
  },
  {
   "cell_type": "code",
   "execution_count": 0,
   "metadata": {
    "colab": {},
    "colab_type": "code",
    "id": "wRZZ9Pi8fMxf"
   },
   "outputs": [],
   "source": [
    "train_flows = np.load(os.path.join(PROJECT_ROOT_DIR, NB_ID, 'rot_flows_train.npy'))"
   ]
  },
  {
   "cell_type": "code",
   "execution_count": 4,
   "metadata": {
    "colab": {
     "base_uri": "https://localhost:8080/",
     "height": 85
    },
    "colab_type": "code",
    "id": "g7Cj0oJffMxh",
    "outputId": "5669de3c-3f34-4dca-c769-845ab1bb7d23"
   },
   "outputs": [
    {
     "name": "stdout",
     "output_type": "stream",
     "text": [
      "Size of training images: 1860 x 6 x 64 x 64\n",
      "\n",
      "Size of flow results: 1860 x 4 x 64 x 64\n",
      "\n"
     ]
    }
   ],
   "source": [
    "print('Size of training images: {0} x {1} x {2} x {3}\\n'.format(*train_images.shape))\n",
    "print('Size of flow results: {0} x {1} x {2} x {3}\\n'.format(*train_flows.shape))"
   ]
  },
  {
   "cell_type": "markdown",
   "metadata": {
    "colab_type": "text",
    "id": "-w15_dsVfMxk"
   },
   "source": [
    "For RGB images, we need the channels last, e.g., 64x64x3."
   ]
  },
  {
   "cell_type": "code",
   "execution_count": 0,
   "metadata": {
    "colab": {},
    "colab_type": "code",
    "id": "bnrH85PBfMxk"
   },
   "outputs": [],
   "source": [
    "def make_RGB(img_arr, img_no, seq_no ): \n",
    "    test = np.zeros(img_arr.shape[2:]+(3,))  \n",
    "    test[:,:,2] = img_arr[img_no,0+3*seq_no,:,:] \n",
    "    test[:,:,1] = img_arr[img_no,1+3*seq_no,:,:] \n",
    "    test[:,:,0] = img_arr[img_no,2+3*seq_no,:,:]\n",
    "    return test"
   ]
  },
  {
   "cell_type": "code",
   "execution_count": 0,
   "metadata": {
    "colab": {},
    "colab_type": "code",
    "id": "UlJGffigfMxm"
   },
   "outputs": [],
   "source": [
    "def make_Greyscale(img_arr, img_no, seq_no ): \n",
    "    return img_arr[img_no,seq_no,:,:] "
   ]
  },
  {
   "cell_type": "code",
   "execution_count": 7,
   "metadata": {
    "colab": {
     "base_uri": "https://localhost:8080/",
     "height": 596
    },
    "colab_type": "code",
    "id": "12dsmQy5fMxo",
    "outputId": "a8336717-f146-4cc6-e864-6633ad1ec04d"
   },
   "outputs": [
    {
     "name": "stdout",
     "output_type": "stream",
     "text": [
      "Saving figure example_data\n"
     ]
    },
    {
     "data": {
      "image/png": "[encoded data removed]",
      "text/plain": [
       "<Figure size 576x576 with 6 Axes>"
      ]
     },
     "metadata": {
      "tags": []
     },
     "output_type": "display_data"
    }
   ],
   "source": [
    "img_num = 101\n",
    "\n",
    "fig, axes = plt.subplots(2, 2,figsize=(8,8))\n",
    "axes[0, 0].imshow(make_RGB(train_images, img_num, 0 ))\n",
    "axes[0, 0].set_title('Start')    \n",
    "\n",
    "axes[0, 1].imshow(make_RGB(train_images, img_num, 1 ))\n",
    "axes[0, 1].set_title('Goal')    \n",
    "\n",
    "# Find the min and max of the flow.\n",
    "from matplotlib import colors\n",
    "fl_min = np.min(train_flows[img_num,0:2,:,:])\n",
    "fl_max = np.max(train_flows[img_num,0:2,:,:])\n",
    "fl_norm = colors.Normalize(vmin=fl_min, vmax=fl_max)\n",
    "\n",
    "im = axes[1, 0].imshow(make_Greyscale(train_flows, img_num, 0 ))\n",
    "im.set_norm(fl_norm)\n",
    "axes[1, 0].set_title('Flow in x')\n",
    "fig.colorbar(im,ax=axes[1, 0])\n",
    "\n",
    "im = axes[1, 1].imshow(make_Greyscale(train_flows, img_num, 1 ))\n",
    "im.set_norm(fl_norm)\n",
    "axes[1, 1].set_title('Flow in y')\n",
    "fig.colorbar(im,ax=axes[1, 1])\n",
    "\n",
    "save_fig(\"example_data\")\n"
   ]
  },
  {
   "cell_type": "code",
   "execution_count": 8,
   "metadata": {
    "colab": {
     "base_uri": "https://localhost:8080/",
     "height": 51
    },
    "colab_type": "code",
    "id": "hessYWFOfMxq",
    "outputId": "d220f6e3-c67a-4037-a703-6cc533e318c6"
   },
   "outputs": [
    {
     "name": "stdout",
     "output_type": "stream",
     "text": [
      "The size of train_rot_images is: (1860, 6, 64, 64)\n",
      "The size of train_rot_flows is: (1860, 4, 64, 64)\n"
     ]
    }
   ],
   "source": [
    "import numpy as np\n",
    "import os\n",
    "train_rot_images = np.load(os.path.join(PROJECT_ROOT_DIR, NB_ID, 'rot_images_train.npy'))\n",
    "train_rot_flows = np.load(os.path.join(PROJECT_ROOT_DIR, NB_ID, 'rot_flows_train.npy'))\n",
    "print('The size of train_rot_images is:', np.shape(train_rot_images))\n",
    "print('The size of train_rot_flows is:', np.shape(train_rot_flows))"
   ]
  },
  {
   "cell_type": "markdown",
   "metadata": {},
   "source": [
    "## Data Preparation"
   ]
  },
  {
   "cell_type": "markdown",
   "metadata": {},
   "source": [
    "1. Iteratively load start and goal images by using make_RGB\n",
    "2. Concatenate start and goal images together by setting up axis = -1\n",
    "3. Iteratively load start and flow graph by using make_Greyscale\n",
    "4. Concatenate start and goal flow graph by setting up axis = -1"
   ]
  },
  {
   "cell_type": "code",
   "execution_count": 9,
   "metadata": {
    "colab": {
     "base_uri": "https://localhost:8080/",
     "height": 85
    },
    "colab_type": "code",
    "id": "i6cpXudcfMxs",
    "outputId": "a47afc5c-b96b-483f-8ca0-398f53deb1ed"
   },
   "outputs": [
    {
     "name": "stdout",
     "output_type": "stream",
     "text": [
      "Size of testing images: 1860 x 6 x 64 x 64\n",
      "\n",
      "Size of flow results: 1860 x 4 x 64 x 64\n",
      "\n"
     ]
    }
   ],
   "source": [
    "# upload test images\n",
    "test_images = np.load(os.path.join(PROJECT_ROOT_DIR, NB_ID, 'rot_images_test.npy'))\n",
    "test_flows = np.load(os.path.join(PROJECT_ROOT_DIR, NB_ID, 'rot_flows_test.npy'))\n",
    "print('Size of testing images: {0} x {1} x {2} x {3}\\n'.format(*train_images.shape))\n",
    "print('Size of flow results: {0} x {1} x {2} x {3}\\n'.format(*train_flows.shape))"
   ]
  },
  {
   "cell_type": "code",
   "execution_count": 10,
   "metadata": {
    "colab": {
     "base_uri": "https://localhost:8080/",
     "height": 85
    },
    "colab_type": "code",
    "id": "-LwY79ZifMxu",
    "outputId": "512e2b88-f80d-4ef3-ffb8-3aa9bd700f96"
   },
   "outputs": [
    {
     "name": "stdout",
     "output_type": "stream",
     "text": [
      "The shape of Rot Train images is: (1860, 64, 64, 6)\n",
      "The shape of Rot Train label is: (1860, 64, 64, 2)\n",
      "The shape of Rot Test images is: (444, 64, 64, 6)\n",
      "The shape of Rot Test images is: (444, 64, 64, 2)\n"
     ]
    }
   ],
   "source": [
    "# transfer all training data and test data\n",
    "def Get_all_images(images):\n",
    "    Images_list = []\n",
    "    total_length = np.shape(images)[0]\n",
    "    for m in range(total_length):\n",
    "        images_start = make_RGB(images, m, 0)\n",
    "        images_end = make_RGB(images, m, 1)\n",
    "# -1 stands for “infer this from the other dimensions”. \n",
    "# This behavior is similar to that of -1 in numpy’s or [] for MATLAB’s reshape: \n",
    "# this dimension is calculated to keep the overall element count the same as in the bottom layer. \n",
    "# At most one -1 can be used in a reshape operation.\n",
    "        images_set = np.concatenate([images_start, images_end], axis = -1)\n",
    "        Images_list.append(images_set)\n",
    "    return Images_list\n",
    "\n",
    "\n",
    "\n",
    "def Get_all_label(Tlabel):\n",
    "    Label_list = []\n",
    "    length = len(Tlabel)\n",
    "    for i in range(length):\n",
    "        label_start = make_Greyscale(Tlabel,i,0)\n",
    "        label_goal = make_Greyscale(Tlabel,i,1)\n",
    "        label_start= label_start[:,:,np.newaxis]\n",
    "        label_goal= label_goal[:,:,np.newaxis]\n",
    "        NewLabel = np.concatenate([label_start,label_goal],axis = -1)\n",
    "        Label_list.append(NewLabel)\n",
    "    return Label_list\n",
    "\n",
    "\n",
    "Image_rot_train_list = np.array(Get_all_images(train_images))\n",
    "flow_rot_train_list = np.array(Get_all_label(train_flows))\n",
    "Image_rot_test_list = np.array(Get_all_images(test_images))\n",
    "flow_rot_test_list = np.array(Get_all_label(test_flows))\n",
    "\n",
    "\n",
    "\n",
    "\n",
    "# print(\"The sample optical flow graph after reducing number of channel is as following\")\n",
    "# fig = plt.figure(figsize = (16, 4))\n",
    "# ax1 = fig.add_subplot(121)\n",
    "# ax2 = fig.add_subplot(122)\n",
    "# ax1.imshow(k[..., 0])\n",
    "# plt.suptitle(\"The flow x and flow y are as following\")\n",
    "# ax2.imshow(k[..., 1])\n",
    "# plt.show()\n",
    "\n",
    "print(\"The shape of Rot Train images is:\",np.shape(Image_rot_train_list))\n",
    "print(\"The shape of Rot Train label is:\",np.shape(flow_rot_train_list))\n",
    "print(\"The shape of Rot Test images is:\",np.shape(Image_rot_test_list))\n",
    "print(\"The shape of Rot Test images is:\",np.shape(flow_rot_test_list))"
   ]
  },
  {
   "cell_type": "markdown",
   "metadata": {},
   "source": [
    "## Network Design"
   ]
  },
  {
   "cell_type": "markdown",
   "metadata": {},
   "source": [
    "1. Using mean square error as Loss measure\n",
    "2. Setting up Measure by calculating the distance between groundtruth value and prediction value and for the value lower than 3.e-3 would be regarded as true prediction.\n",
    "3. Initializing the CNN model by setting up parameter input_shape = (64, 64, 6), number of filter = 64 and kernel_size = (3, 3).\n",
    "4. Downsizing all the iuput images by using convolution2D with stride = (2, 2) and then upsizing all the images with deconvolution layer by using convolution2DTranspose with stride = (2, 2).\n",
    "5. Configure 'linear' as last layer activation function."
   ]
  },
  {
   "cell_type": "code",
   "execution_count": 11,
   "metadata": {
    "colab": {
     "base_uri": "https://localhost:8080/",
     "height": 525
    },
    "colab_type": "code",
    "id": "xOSsjz2_fMxx",
    "outputId": "e34d893e-4159-4da6-9e8a-75c5b77bdc9a"
   },
   "outputs": [
    {
     "data": {
      "text/html": [
       "<p style=\"color: red;\">\n",
       "The default version of TensorFlow in Colab will soon switch to TensorFlow 2.x.<br>\n",
       "We recommend you <a href=\"https://www.tensorflow.org/guide/migrate\" target=\"_blank\">upgrade</a> now \n",
       "or ensure your notebook will continue to use TensorFlow 1.x via the <code>%tensorflow_version 1.x</code> magic:\n",
       "<a href=\"https://colab.research.google.com/notebooks/tensorflow_version.ipynb\" target=\"_blank\">more info</a>.</p>\n"
      ],
      "text/plain": [
       "<IPython.core.display.HTML object>"
      ]
     },
     "metadata": {
      "tags": []
     },
     "output_type": "display_data"
    },
    {
     "name": "stdout",
     "output_type": "stream",
     "text": [
      "WARNING:tensorflow:From /usr/local/lib/python3.6/dist-packages/tensorflow_core/python/ops/resource_variable_ops.py:1630: calling BaseResourceVariable.__init__ (from tensorflow.python.ops.resource_variable_ops) with constraint is deprecated and will be removed in a future version.\n",
      "Instructions for updating:\n",
      "If using Keras pass *_constraint arguments to layers.\n",
      "Model: \"sequential\"\n",
      "_________________________________________________________________\n",
      "Layer (type)                 Output Shape              Param #   \n",
      "=================================================================\n",
      "conv2d (Conv2D)              (None, 64, 64, 64)        3520      \n",
      "_________________________________________________________________\n",
      "conv2d_1 (Conv2D)            (None, 32, 32, 128)       73856     \n",
      "_________________________________________________________________\n",
      "conv2d_2 (Conv2D)            (None, 32, 32, 256)       295168    \n",
      "_________________________________________________________________\n",
      "conv2d_3 (Conv2D)            (None, 16, 16, 512)       1180160   \n",
      "_________________________________________________________________\n",
      "conv2d_transpose (Conv2DTran (None, 32, 32, 256)       1179904   \n",
      "_________________________________________________________________\n",
      "conv2d_transpose_1 (Conv2DTr (None, 64, 64, 128)       295040    \n",
      "_________________________________________________________________\n",
      "conv2d_4 (Conv2D)            (None, 64, 64, 2)         2306      \n",
      "=================================================================\n",
      "Total params: 3,029,954\n",
      "Trainable params: 3,029,954\n",
      "Non-trainable params: 0\n",
      "_________________________________________________________________\n"
     ]
    }
   ],
   "source": [
    "import tensorflow.keras.backend as K\n",
    "from tensorflow.keras.models import Sequential\n",
    "from tensorflow.keras.callbacks import TensorBoard, ReduceLROnPlateau\n",
    "import tensorflow.keras.layers as L\n",
    "from tensorflow.keras.optimizers import Adam\n",
    "import os\n",
    "os.environ[\"TF_CPP_MIN_LOG_LEVEL\"]='2'\n",
    "\n",
    "def Measure(y_true, y_pred):\n",
    "    value = K.abs(y_true - y_pred)\n",
    "    false_pred = K.cast(K.greater(value, 3.e-3), 'float32')\n",
    "    whole_ones = K.ones_like(value) # * weight_vector\n",
    "    return K.sum(1. - false_pred) / K.sum(whole_ones)\n",
    "\n",
    "# input image dimensions\n",
    "img_rows, img_cols, num_channel = 64, 64, 6\n",
    "# number of convolutional filters to use\n",
    "nb_filters = 64\n",
    "# convolution kernel size\n",
    "kernel_size = (3, 3)\n",
    "\n",
    "def CNN():\n",
    "    model = Sequential()\n",
    "    model.add(L.Conv2D(nb_filters, kernel_size, strides=(1, 1), padding='same', activation='relu', input_shape=(img_rows, img_cols, num_channel)))\n",
    "    model.add(L.Conv2D(nb_filters*2, kernel_size, strides=(2, 2), padding='same', activation='relu'))\n",
    "    model.add(L.Conv2D(nb_filters*4, kernel_size, strides=(1, 1), padding='same', activation='relu'))\n",
    "    model.add(L.Conv2D(nb_filters*8, kernel_size, strides=(2, 2), padding='same', activation='relu'))\n",
    "    model.add(L.Conv2DTranspose(nb_filters*4, kernel_size, strides=(2, 2), padding='same', activation='relu'))\n",
    "    model.add(L.Conv2DTranspose(nb_filters*2, kernel_size, strides=(2, 2), padding='same', activation='relu'))\n",
    "    model.add(L.Conv2D(2, kernel_size, strides=(1, 1), padding='same', activation='linear'))\n",
    "    model.compile(loss=\"mse\", optimizer=Adam(lr=0.0001), metrics=[Measure])\n",
    "    return model\n",
    "CNN = CNN()\n",
    "CNN.summary()"
   ]
  },
  {
   "cell_type": "markdown",
   "metadata": {},
   "source": [
    "### Training parameter"
   ]
  },
  {
   "cell_type": "markdown",
   "metadata": {},
   "source": [
    "1. Adding learning rate decay with factor = 0.8\n",
    "2. Fitting the model with training data.\n",
    "3. Setting up epochs = 15, batch_size = 10"
   ]
  },
  {
   "cell_type": "code",
   "execution_count": 12,
   "metadata": {
    "colab": {
     "base_uri": "https://localhost:8080/",
     "height": 561
    },
    "colab_type": "code",
    "id": "fqO8cNvWfMxz",
    "outputId": "d5e7936e-32cc-405b-8dee-fa9f60e05ddc"
   },
   "outputs": [
    {
     "name": "stdout",
     "output_type": "stream",
     "text": [
      "Train on 1860 samples\n",
      "Epoch 1/15\n",
      "1860/1860 [==============================] - 14s 7ms/sample - loss: 0.5851 - Measure: 0.0736\n",
      "Epoch 2/15\n",
      "1860/1860 [==============================] - 12s 6ms/sample - loss: 0.3047 - Measure: 0.0745\n",
      "Epoch 3/15\n",
      "1860/1860 [==============================] - 12s 6ms/sample - loss: 0.2559 - Measure: 0.0829\n",
      "Epoch 4/15\n",
      "1860/1860 [==============================] - 12s 6ms/sample - loss: 0.2298 - Measure: 0.1039\n",
      "Epoch 5/15\n",
      "1860/1860 [==============================] - 12s 6ms/sample - loss: 0.2113 - Measure: 0.1410\n",
      "Epoch 6/15\n",
      "1860/1860 [==============================] - 12s 6ms/sample - loss: 0.1968 - Measure: 0.1446\n",
      "Epoch 7/15\n",
      "1860/1860 [==============================] - 12s 6ms/sample - loss: 0.1857 - Measure: 0.1421\n",
      "Epoch 8/15\n",
      "1860/1860 [==============================] - 12s 6ms/sample - loss: 0.1762 - Measure: 0.1647\n",
      "Epoch 9/15\n",
      "1860/1860 [==============================] - 12s 6ms/sample - loss: 0.1689 - Measure: 0.1531\n",
      "Epoch 10/15\n",
      "1860/1860 [==============================] - 12s 6ms/sample - loss: 0.1600 - Measure: 0.2044\n",
      "Epoch 11/15\n",
      "1860/1860 [==============================] - 12s 6ms/sample - loss: 0.1536 - Measure: 0.1827\n",
      "Epoch 12/15\n",
      "1860/1860 [==============================] - 12s 6ms/sample - loss: 0.1468 - Measure: 0.1969\n",
      "Epoch 13/15\n",
      "1860/1860 [==============================] - 12s 6ms/sample - loss: 0.1376 - Measure: 0.1992\n",
      "Epoch 14/15\n",
      "1860/1860 [==============================] - 12s 6ms/sample - loss: 0.1328 - Measure: 0.1940\n",
      "Epoch 15/15\n",
      "1860/1860 [==============================] - 12s 6ms/sample - loss: 0.1270 - Measure: 0.1898\n"
     ]
    },
    {
     "data": {
      "text/plain": [
       "<tensorflow.python.keras.callbacks.History at 0x7f9c87426cc0>"
      ]
     },
     "execution_count": 12,
     "metadata": {
      "tags": []
     },
     "output_type": "execute_result"
    }
   ],
   "source": [
    "decay = ReduceLROnPlateau(monitor='loss', factor=0.8, patience=3, min_lr=1e-5)\n",
    "CNN.fit(Image_rot_train_list, flow_rot_train_list, batch_size=10, epochs=15,callbacks=[decay])"
   ]
  },
  {
   "cell_type": "markdown",
   "metadata": {},
   "source": [
    "### Evaluate the model "
   ]
  },
  {
   "cell_type": "code",
   "execution_count": 13,
   "metadata": {
    "colab": {
     "base_uri": "https://localhost:8080/",
     "height": 51
    },
    "colab_type": "code",
    "id": "ydc3XzStfMx1",
    "outputId": "a69f619d-f350-4b2a-fe3b-283dcb5734cc"
   },
   "outputs": [
    {
     "name": "stdout",
     "output_type": "stream",
     "text": [
      "444/444 [==============================] - 2s 5ms/sample - loss: 0.1346 - Measure: 0.1490\n",
      "loss, acc, measure [0.13464726266023275, 0.14896584]\n"
     ]
    }
   ],
   "source": [
    "scores = CNN.evaluate(Image_rot_test_list, flow_rot_test_list, verbose = 1)\n",
    "print(\"loss, acc, measure\", scores)"
   ]
  },
  {
   "cell_type": "code",
   "execution_count": 14,
   "metadata": {
    "colab": {
     "base_uri": "https://localhost:8080/",
     "height": 602
    },
    "colab_type": "code",
    "id": "AQpkw7UyfMx2",
    "outputId": "a944439b-1e5c-45cb-a766-d6b5ea5f8b2e"
   },
   "outputs": [
    {
     "name": "stdout",
     "output_type": "stream",
     "text": [
      "Saving figure basic_result\n"
     ]
    },
    {
     "data": {
      "image/png": "[encoded data removed]",
      "text/plain": [
       "<Figure size 576x576 with 12 Axes>"
      ]
     },
     "metadata": {
      "tags": []
     },
     "output_type": "display_data"
    }
   ],
   "source": [
    "img_num = 200\n",
    "flow_result = CNN.predict(Image_rot_test_list[img_num:img_num+1,:,:,:])\n",
    "\n",
    "fig, axes = plt.subplots(3, 2,figsize=(8,8))\n",
    "\n",
    "\n",
    "# Find the min and max of the flow.\n",
    "from matplotlib import colors\n",
    "fl_min = np.min(train_flows[img_num,0:2,:,:])\n",
    "fl_max = np.max(train_flows[img_num,0:2,:,:])\n",
    "fl_min = np.min([fl_min,np.min(flow_result[0,:,:,0:2])])\n",
    "fl_max = np.max([fl_max,np.max(flow_result[0,:,:,0:2])])\n",
    "fl_norm = colors.Normalize(vmin=fl_min, vmax=fl_max)\n",
    "\n",
    "\n",
    "flow_result1 = np.squeeze(flow_result)\n",
    "\n",
    "\n",
    "# noise free flows\n",
    "im = axes[0, 0].imshow(make_Greyscale(test_flows, img_num, 0 ))\n",
    "im.set_norm(fl_norm)\n",
    "axes[0, 0].set_title('Groundtruth:Flow in x')\n",
    "fig.colorbar(im,ax=axes[0, 0])\n",
    "\n",
    "\n",
    "\n",
    "im = axes[0, 1].imshow(make_Greyscale(test_flows, img_num, 1 ))\n",
    "im.set_norm(fl_norm)\n",
    "axes[0, 1].set_title('Groundtruth:Flow in y')\n",
    "fig.colorbar(im,ax=axes[0, 1])\n",
    "\n",
    "im = axes[1, 0].imshow(flow_result1[..., 0])\n",
    "im.set_norm(fl_norm)\n",
    "axes[1, 0].set_title('Prediction:Flow in x without noise')\n",
    "fig.colorbar(im,ax=axes[1, 0])\n",
    "\n",
    "im = axes[1, 1].imshow(flow_result1[..., 1])\n",
    "im.set_norm(fl_norm)\n",
    "axes[1, 1].set_title('Prediction:Flow in y without noise')\n",
    "fig.colorbar(im,ax=axes[1, 1])\n",
    "\n",
    "\n",
    "flow_result2 = flow_result[0:,:,:,0:2] + 2*np.random.rand(1,64,64,2) - 1\n",
    "flow_result3 = np.squeeze(flow_result2)\n",
    "# noisy flows\n",
    "im = axes[2, 0].imshow(flow_result3[..., 0])\n",
    "im.set_norm(fl_norm)\n",
    "axes[2, 0].set_title('Prediction:Flow in x with noise')\n",
    "fig.colorbar(im,ax=axes[2, 0])\n",
    "\n",
    "im = axes[2, 1].imshow(flow_result3[..., 1])\n",
    "im.set_norm(fl_norm)\n",
    "axes[2, 1].set_title('Prediction:Flow in y with noise')\n",
    "fig.colorbar(im,ax=axes[2, 1])\n",
    "\n",
    "save_fig(\"basic_result\")"
   ]
  },
  {
   "cell_type": "markdown",
   "metadata": {},
   "source": [
    "### Conclusion"
   ]
  },
  {
   "cell_type": "markdown",
   "metadata": {},
   "source": []
  },
  {
   "cell_type": "code",
   "execution_count": null,
   "metadata": {
    "colab": {
     "base_uri": "https://localhost:8080/",
     "height": 85
    },
    "colab_type": "code",
    "id": "SiBMxq7TfMx4",
    "outputId": "72b84dd5-1856-461b-8106-4f32d0ea5806"
   },
   "outputs": [],
   "source": [
    "import tensorflow.keras.applications as App\n",
    "import tensorflow\n",
    "import tensorflow.keras.layers as TL\n",
    "from tensorflow.keras.optimizers import Adam\n",
    "train_mix_train_images = np.load(os.path.join(PROJECT_ROOT_DIR, NB_ID, 'mix_images_train.npy'))\n",
    "train_mix_train_flows = np.load(os.path.join(PROJECT_ROOT_DIR, NB_ID, 'mix_flows_train.npy'))\n",
    "test_mix_test_images = np.load(os.path.join(PROJECT_ROOT_DIR, NB_ID, 'mix_images_test.npy'))\n",
    "test_mix_test_flows = np.load(os.path.join(PROJECT_ROOT_DIR, NB_ID, 'mix_flows_test.npy'))\n",
    "Image_mix_train_list = np.array(Get_all_images(train_mix_train_images))\n",
    "flow_mix_train_list = np.array(Get_all_label(train_mix_train_flows))\n",
    "Image_mix_test_list = np.array(Get_all_images(test_mix_test_images))\n",
    "flow_mix_test_list = np.array(Get_all_label(test_mix_test_flows))\n",
    "print(\"The shape of Image_mix_train_list\", np.shape(Image_mix_train_list))\n",
    "print(\"The shape of flow_mix_train_list\", np.shape(flow_mix_train_list))\n",
    "print(\"The shape of Image_mix_test_list\", np.shape(Image_mix_test_list))\n",
    "print(\"The shape of flow_mix_test_list\", np.shape(flow_mix_test_list))"
   ]
  },
  {
   "cell_type": "code",
   "execution_count": null,
   "metadata": {
    "colab": {
     "base_uri": "https://localhost:8080/",
     "height": 425
    },
    "colab_type": "code",
    "id": "a1kkAluUfMx6",
    "outputId": "1390b846-45cf-483e-d74b-e06068053173"
   },
   "outputs": [],
   "source": [
    "vgg_model = App.vgg16.VGG16(input_shape = (img_rows, img_cols, 3),include_top=False)\n",
    "vggmodel = tensorflow.keras.Sequential()\n",
    "pool_layer = [3, 6, 10]\n",
    "for i in range(12):\n",
    "    if i not in pool_layer:\n",
    "        vggmodel.add(vgg_model.layers[i])\n",
    "vggmodel.trainable = False\n",
    "vggmodel.summary()"
   ]
  },
  {
   "cell_type": "code",
   "execution_count": null,
   "metadata": {
    "colab": {
     "base_uri": "https://localhost:8080/",
     "height": 425
    },
    "colab_type": "code",
    "id": "I3QzoO6uIULs",
    "outputId": "e0541203-5fa3-4215-adeb-d80071c94ed0"
   },
   "outputs": [],
   "source": [
    "def VGG_CNN():\n",
    "    L1 = L.Conv2D(64, (3, 3), strides=(1, 1), padding='same', \\\n",
    "                   activation='relu', input_shape=(64, 64, 6))\n",
    "    L2 = L.Conv2D(3, (3, 3), strides=(1, 1), padding='same', \\\n",
    "                   activation='relu')\n",
    "\n",
    "    regression1 = L.Conv2D(nb_filters*8, (3, 3), strides=(2, 2), padding='same', \\\n",
    "                   activation='relu')\n",
    "    regression2 = L.Conv2D(nb_filters*4, (3, 3), strides=(2, 2), padding='same', \\\n",
    "                   activation='relu')\n",
    "    regression3 = L.Conv2DTranspose(nb_filters*2 , (3, 3), strides=(2, 2), padding='same', \\\n",
    "                   activation='relu')\n",
    "    regression4 = L.Conv2DTranspose(nb_filters , (3, 3), strides=(2, 2), padding='same', \\\n",
    "                   activation='relu')\n",
    "    regression5 = L.Conv2D(2 , (3, 3), strides=(1, 1), padding='same', \\\n",
    "                   activation='linear')\n",
    "\n",
    "    New_model = tensorflow.keras.Sequential([L1, L2, vggmodel,regression1, regression2,\n",
    "                                regression3, regression4, regression5])\n",
    "    New_model.compile(loss=\"mse\", optimizer=Adam(lr=0.0001), metrics=[Measure])\n",
    "    return New_model\n",
    "\n",
    "New_model = VGG_CNN()\n",
    "New_model.summary()"
   ]
  },
  {
   "cell_type": "code",
   "execution_count": null,
   "metadata": {
    "colab": {
     "base_uri": "https://localhost:8080/",
     "height": 391
    },
    "colab_type": "code",
    "id": "tcZR4hFHIXly",
    "outputId": "28566254-d69b-4940-fcdb-77bb28d85aa0"
   },
   "outputs": [],
   "source": [
    "New_model.fit(Image_rot_train_list, flow_rot_train_list, batch_size=10, epochs=10,callbacks=[decay])"
   ]
  },
  {
   "cell_type": "code",
   "execution_count": null,
   "metadata": {
    "colab": {
     "base_uri": "https://localhost:8080/",
     "height": 51
    },
    "colab_type": "code",
    "id": "pFM5eNTHJYIt",
    "outputId": "649858bc-6468-453b-f6ab-d37622783dbb"
   },
   "outputs": [],
   "source": [
    "history = New_model.evaluate(Image_rot_test_list, flow_rot_test_list, verbose= 1)\n",
    "print(\"The loss and Measure for rot data\", history)"
   ]
  },
  {
   "cell_type": "code",
   "execution_count": null,
   "metadata": {
    "colab": {
     "base_uri": "https://localhost:8080/",
     "height": 602
    },
    "colab_type": "code",
    "id": "vUrDDV1MJ5jQ",
    "outputId": "e88c460b-999a-4d93-e922-e58e3cc34fcd"
   },
   "outputs": [],
   "source": [
    "img_num = 200\n",
    "flow_result = New_model.predict(Image_rot_test_list[img_num:img_num+1,:,:,:])\n",
    "\n",
    "fig, axes = plt.subplots(3, 2,figsize=(8,8))\n",
    "\n",
    "\n",
    "# Find the min and max of the flow.\n",
    "from matplotlib import colors\n",
    "fl_min = np.min(train_flows[img_num,0:2,:,:])\n",
    "fl_max = np.max(train_flows[img_num,0:2,:,:])\n",
    "fl_min = np.min([fl_min,np.min(flow_result[0,:,:,0:2])])\n",
    "fl_max = np.max([fl_max,np.max(flow_result[0,:,:,0:2])])\n",
    "fl_norm = colors.Normalize(vmin=fl_min, vmax=fl_max)\n",
    "\n",
    "\n",
    "flow_result1 = np.squeeze(flow_result)\n",
    "\n",
    "\n",
    "# noise free flows\n",
    "im = axes[0, 0].imshow(make_Greyscale(test_flows, img_num, 0 ))\n",
    "im.set_norm(fl_norm)\n",
    "axes[0, 0].set_title('Groundtruth:Flow in x')\n",
    "fig.colorbar(im,ax=axes[0, 0])\n",
    "\n",
    "\n",
    "\n",
    "im = axes[0, 1].imshow(make_Greyscale(test_flows, img_num, 1 ))\n",
    "im.set_norm(fl_norm)\n",
    "axes[0, 1].set_title('Groundtruth:Flow in y')\n",
    "fig.colorbar(im,ax=axes[0, 1])\n",
    "\n",
    "im = axes[1, 0].imshow(flow_result1[..., 0])\n",
    "im.set_norm(fl_norm)\n",
    "axes[1, 0].set_title('Prediction:Flow in x without noise')\n",
    "fig.colorbar(im,ax=axes[1, 0])\n",
    "\n",
    "im = axes[1, 1].imshow(flow_result1[..., 1])\n",
    "im.set_norm(fl_norm)\n",
    "axes[1, 1].set_title('Prediction:Flow in y without noise')\n",
    "fig.colorbar(im,ax=axes[1, 1])\n",
    "\n",
    "\n",
    "flow_result2 = flow_result[0:,:,:,0:2] + 2*np.random.rand(1,64,64,2) - 1\n",
    "flow_result3 = np.squeeze(flow_result2)\n",
    "# noisy flows\n",
    "im = axes[2, 0].imshow(flow_result3[..., 0])\n",
    "im.set_norm(fl_norm)\n",
    "axes[2, 0].set_title('Prediction:Flow in x with noise')\n",
    "fig.colorbar(im,ax=axes[2, 0])\n",
    "\n",
    "im = axes[2, 1].imshow(flow_result3[..., 1])\n",
    "im.set_norm(fl_norm)\n",
    "axes[2, 1].set_title('Prediction:Flow in y with noise')\n",
    "fig.colorbar(im,ax=axes[2, 1])\n",
    "\n",
    "save_fig(\"basic_result\")"
   ]
  },
  {
   "cell_type": "code",
   "execution_count": null,
   "metadata": {
    "colab": {
     "base_uri": "https://localhost:8080/",
     "height": 391
    },
    "colab_type": "code",
    "id": "tyBb37EiKBNY",
    "outputId": "58d50dfd-4d7e-4b16-a431-0f1cebef4e87"
   },
   "outputs": [],
   "source": [
    "New_model.fit(Image_mix_train_list, flow_mix_train_list, batch_size=10, epochs=10,callbacks=[decay])"
   ]
  },
  {
   "cell_type": "code",
   "execution_count": null,
   "metadata": {
    "colab": {
     "base_uri": "https://localhost:8080/",
     "height": 51
    },
    "colab_type": "code",
    "id": "8gwJjC3NMSPy",
    "outputId": "9484f537-4261-44b9-df26-0e8b1e654111"
   },
   "outputs": [],
   "source": [
    "history = New_model.evaluate(Image_mix_test_list, flow_mix_test_list, verbose= 1)\n",
    "print(\"The loss and Measure for mix data\", history)"
   ]
  },
  {
   "cell_type": "code",
   "execution_count": null,
   "metadata": {
    "colab": {
     "base_uri": "https://localhost:8080/",
     "height": 602
    },
    "colab_type": "code",
    "id": "aU29C_CKMfo0",
    "outputId": "a7489e3a-8bc9-412c-83ee-387598868710"
   },
   "outputs": [],
   "source": [
    "img_num = 100\n",
    "test_mix_test_flows_temp = np.load(os.path.join(PROJECT_ROOT_DIR, NB_ID, 'mix_flows_test.npy'))\n",
    "flow_result = New_model.predict(Image_mix_test_list[img_num:img_num+1,:,:,:])\n",
    "\n",
    "fig, axes = plt.subplots(3, 2,figsize=(8,8))\n",
    "\n",
    "\n",
    "# Find the min and max of the flow.\n",
    "from matplotlib import colors\n",
    "fl_min = np.min(train_flows[img_num,0:2,:,:])\n",
    "fl_max = np.max(train_flows[img_num,0:2,:,:])\n",
    "fl_min = np.min([fl_min,np.min(flow_result[0,:,:,0:2])])\n",
    "fl_max = np.max([fl_max,np.max(flow_result[0,:,:,0:2])])\n",
    "fl_norm = colors.Normalize(vmin=fl_min, vmax=fl_max)\n",
    "\n",
    "\n",
    "flow_result1 = np.squeeze(flow_result)\n",
    "\n",
    "\n",
    "# noise free flows\n",
    "im = axes[0, 0].imshow(make_Greyscale(test_mix_test_flows_temp, img_num, 0 ))\n",
    "im.set_norm(fl_norm)\n",
    "axes[0, 0].set_title('Groundtruth:Flow in x')\n",
    "fig.colorbar(im,ax=axes[0, 0])\n",
    "\n",
    "\n",
    "\n",
    "im = axes[0, 1].imshow(make_Greyscale(test_mix_test_flows_temp, img_num, 1 ))\n",
    "im.set_norm(fl_norm)\n",
    "axes[0, 1].set_title('Groundtruth:Flow in y')\n",
    "fig.colorbar(im,ax=axes[0, 1])\n",
    "\n",
    "im = axes[1, 0].imshow(flow_result1[..., 0])\n",
    "im.set_norm(fl_norm)\n",
    "axes[1, 0].set_title('Prediction:Flow in x without noise')\n",
    "fig.colorbar(im,ax=axes[1, 0])\n",
    "\n",
    "im = axes[1, 1].imshow(flow_result1[..., 1])\n",
    "im.set_norm(fl_norm)\n",
    "axes[1, 1].set_title('Prediction:Flow in y without noise')\n",
    "fig.colorbar(im,ax=axes[1, 1])\n",
    "\n",
    "\n",
    "flow_result2 = flow_result[0:,:,:,0:2] + 2*np.random.rand(1,64,64,2) - 1\n",
    "flow_result3 = np.squeeze(flow_result2)\n",
    "# noisy flows\n",
    "im = axes[2, 0].imshow(flow_result3[..., 0])\n",
    "im.set_norm(fl_norm)\n",
    "axes[2, 0].set_title('Prediction:Flow in x with noise')\n",
    "fig.colorbar(im,ax=axes[2, 0])\n",
    "\n",
    "im = axes[2, 1].imshow(flow_result3[..., 1])\n",
    "im.set_norm(fl_norm)\n",
    "axes[2, 1].set_title('Prediction:Flow in y with noise')\n",
    "fig.colorbar(im,ax=axes[2, 1])\n",
    "\n",
    "save_fig(\"basic_result\")"
   ]
  },
  {
   "cell_type": "code",
   "execution_count": null,
   "metadata": {
    "colab": {
     "base_uri": "https://localhost:8080/",
     "height": 646
    },
    "colab_type": "code",
    "id": "7gHNDJyBNI2T",
    "outputId": "0a08e082-e4c1-4233-b8ed-29ab5f9992f1"
   },
   "outputs": [],
   "source": [
    "from tensorflow.keras.models import Model\n",
    "\n",
    "def seperate(Timages):\n",
    "    Image_list_start =[]\n",
    "    Image_list_end =[]\n",
    "    length = len(Timages)\n",
    "    for i in range(length):\n",
    "        image_start = make_RGB(Timages,i,0)\n",
    "        image_goal = make_RGB(Timages,i,1)\n",
    "        Image_list_start.append(image_start)\n",
    "        Image_list_end.append(image_goal)\n",
    "    return Image_list_start,Image_list_end\n",
    "\n",
    "train_images_start, train_images_end = seperate(train_images)\n",
    "test_images_start, test_images_end = seperate(test_images)\n",
    "print(\"the shape of train_images_start:\",np.shape(train_images_start))\n",
    "print(\"the shape of train_images_end:\",np.shape(train_images_end))\n",
    "print(\"the shape of test_images_start:\",np.shape(test_images_start))\n",
    "print(\"the shape of test_images_end:\",np.shape(test_images_end))\n",
    "\n",
    "def siamese_model():\n",
    "    start = TL.Input(shape = (64,64,3))\n",
    "    end = TL.Input(shape =(64,64,3))\n",
    "    start_image_layer = TL.Conv2D(nb_filters,kernel_size,strides=(1,1),padding='same',input_shape=(64,64,6),activation = 'relu')(start)\n",
    "    l2_start = TL.Conv2D(nb_filters*2,kernel_size,strides=(2,2),padding='same',activation = 'relu')(start_image_layer)\n",
    "    goal_image_layer = TL.Conv2D(nb_filters,kernel_size,strides=(1,1),padding='same',input_shape=(64,64,6),activation = 'relu')(end)\n",
    "    l2_end = TL.Conv2D(nb_filters*2,kernel_size,strides=(2,2),padding='same',activation = 'relu')(goal_image_layer)\n",
    "    l2  = TL.Add()([l2_start,l2_end])\n",
    "    l3 = TL.Conv2D(nb_filters*4,kernel_size,strides=(1,1),padding='same',activation = 'relu')(l2)\n",
    "    l4 = TL.Conv2D(nb_filters*8,kernel_size,strides=(2,2),padding='same',activation = 'relu')(l3)\n",
    "    l5 = TL.Conv2DTranspose(nb_filters*4,kernel_size,strides=(2,2),padding='same',activation = 'relu')(l4)\n",
    "    l6 = TL.Conv2DTranspose(nb_filters*2,kernel_size,strides=(1,1),padding='same',activation = 'relu')(l5)\n",
    "    l7 = TL.Conv2DTranspose(2,kernel_size,strides=(2,2),padding='same',activation = 'linear')(l6)\n",
    "    model = Model(inputs=[start, end], outputs = l7)\n",
    "    model.summary()\n",
    "    model.compile(loss = \"mse\", optimizer = Adam(lr = 0.0001), metrics=[Measure])\n",
    "    return model\n",
    "siamese_model = siamese_model()\n"
   ]
  },
  {
   "cell_type": "code",
   "execution_count": null,
   "metadata": {
    "colab": {
     "base_uri": "https://localhost:8080/",
     "height": 544
    },
    "colab_type": "code",
    "id": "xMp1OzSON_qi",
    "outputId": "4aa818c7-b367-4471-afc2-046b52a3d011"
   },
   "outputs": [],
   "source": [
    "decay = ReduceLROnPlateau(monitor='loss', factor=0.8, patience=3, min_lr=1e-5)\n",
    "history = siamese_model.fit(x=[train_images_start, train_images_end], y = flow_rot_train_list, batch_size=10, epochs=15,callbacks=[decay])"
   ]
  },
  {
   "cell_type": "code",
   "execution_count": null,
   "metadata": {
    "colab": {
     "base_uri": "https://localhost:8080/",
     "height": 51
    },
    "colab_type": "code",
    "id": "mbdiNEzJORt-",
    "outputId": "7a6ae6c1-142a-45fc-fdea-c85e74dedc62"
   },
   "outputs": [],
   "source": [
    "history = siamese_model.evaluate(x=[test_images_start, test_images_end], y = flow_rot_test_list, verbose= 1)\n",
    "print(\"The loss and Measure\", history)"
   ]
  },
  {
   "cell_type": "code",
   "execution_count": null,
   "metadata": {
    "colab": {
     "base_uri": "https://localhost:8080/",
     "height": 602
    },
    "colab_type": "code",
    "id": "XJDKKrcJOaRi",
    "outputId": "3aaea301-1644-4825-9ff8-70cf91f6d296"
   },
   "outputs": [],
   "source": [
    "img_num = 200\n",
    "flow_result = New_model.predict(Image_rot_test_list[img_num:img_num+1,:,:,:])\n",
    "\n",
    "fig, axes = plt.subplots(3, 2,figsize=(8,8))\n",
    "\n",
    "\n",
    "# Find the min and max of the flow.\n",
    "from matplotlib import colors\n",
    "fl_min = np.min(train_flows[img_num,0:2,:,:])\n",
    "fl_max = np.max(train_flows[img_num,0:2,:,:])\n",
    "fl_min = np.min([fl_min,np.min(flow_result[0,:,:,0:2])])\n",
    "fl_max = np.max([fl_max,np.max(flow_result[0,:,:,0:2])])\n",
    "fl_norm = colors.Normalize(vmin=fl_min, vmax=fl_max)\n",
    "\n",
    "\n",
    "flow_result1 = np.squeeze(flow_result)\n",
    "\n",
    "\n",
    "# noise free flows\n",
    "im = axes[0, 0].imshow(make_Greyscale(test_flows, img_num, 0 ))\n",
    "im.set_norm(fl_norm)\n",
    "axes[0, 0].set_title('Groundtruth:Flow in x')\n",
    "fig.colorbar(im,ax=axes[0, 0])\n",
    "\n",
    "\n",
    "\n",
    "im = axes[0, 1].imshow(make_Greyscale(test_flows, img_num, 1 ))\n",
    "im.set_norm(fl_norm)\n",
    "axes[0, 1].set_title('Groundtruth:Flow in y')\n",
    "fig.colorbar(im,ax=axes[0, 1])\n",
    "\n",
    "im = axes[1, 0].imshow(flow_result1[..., 0])\n",
    "im.set_norm(fl_norm)\n",
    "axes[1, 0].set_title('Prediction:Flow in x without noise')\n",
    "fig.colorbar(im,ax=axes[1, 0])\n",
    "\n",
    "im = axes[1, 1].imshow(flow_result1[..., 1])\n",
    "im.set_norm(fl_norm)\n",
    "axes[1, 1].set_title('Prediction:Flow in y without noise')\n",
    "fig.colorbar(im,ax=axes[1, 1])\n",
    "\n",
    "\n",
    "flow_result2 = flow_result[0:,:,:,0:2] + 2*np.random.rand(1,64,64,2) - 1\n",
    "flow_result3 = np.squeeze(flow_result2)\n",
    "# noisy flows\n",
    "im = axes[2, 0].imshow(flow_result3[..., 0])\n",
    "im.set_norm(fl_norm)\n",
    "axes[2, 0].set_title('Prediction:Flow in x with noise')\n",
    "fig.colorbar(im,ax=axes[2, 0])\n",
    "\n",
    "im = axes[2, 1].imshow(flow_result3[..., 1])\n",
    "im.set_norm(fl_norm)\n",
    "axes[2, 1].set_title('Prediction:Flow in y with noise')\n",
    "fig.colorbar(im,ax=axes[2, 1])\n",
    "\n",
    "save_fig(\"basic_result\")"
   ]
  }
 ],
 "metadata": {
  "accelerator": "GPU",
  "colab": {
   "name": "5139assign3.ipynb",
   "provenance": []
  },
  "kernelspec": {
   "display_name": "Python 3",
   "language": "python",
   "name": "python3"
  },
  "language_info": {
   "codemirror_mode": {
    "name": "ipython",
    "version": 3
   },
   "file_extension": ".py",
   "mimetype": "text/x-python",
   "name": "python",
   "nbconvert_exporter": "python",
   "pygments_lexer": "ipython3",
   "version": "3.7.4"
  }
 },
 "nbformat": 4,
 "nbformat_minor": 1
}
